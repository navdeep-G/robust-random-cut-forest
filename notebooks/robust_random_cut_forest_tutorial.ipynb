{
 "cells": [
  {
   "cell_type": "code",
   "execution_count": 1,
   "metadata": {},
   "outputs": [],
   "source": [
    "from __future__ import division, print_function\n",
    "import numpy as np\n",
    "from random_cut_forest import random_cut_forest as rcf  # Could also be import RandomCutForest\n",
    "from sklearn import metrics"
   ]
  },
  {
   "cell_type": "markdown",
   "metadata": {},
   "source": [
    "Suppose we have a multivariate normal data set X with a mean of zero and identity covariance matrix."
   ]
  },
  {
   "cell_type": "code",
   "execution_count": 2,
   "metadata": {},
   "outputs": [],
   "source": [
    "# generate a normally distributed dataset of dimension [n, p] called X\n",
    "# this is normal non-anomalous data\n",
    "n = 1000\n",
    "p = 20\n",
    "X = np.random.randn(n * p).reshape(n, p)"
   ]
  },
  {
   "cell_type": "markdown",
   "metadata": {},
   "source": [
    "Now create a small number of anomalies.  These follow a different distribution, they have triple the variance."
   ]
  },
  {
   "cell_type": "code",
   "execution_count": 3,
   "metadata": {},
   "outputs": [],
   "source": [
    "# now add anomalies to the dataset\n",
    "outlier_prob = .05\n",
    "is_outlier = np.random.rand(n) > .95\n",
    "n_outliers = np.sum(is_outlier)\n",
    "X[is_outlier] = 3 * np.random.rand(n_outliers * p).reshape(n_outliers, p)"
   ]
  },
  {
   "cell_type": "markdown",
   "metadata": {},
   "source": [
    "We will use a random cut forest to try to detect these anomalies while making no assumptions about the structure of the data.\n",
    "\n",
    "First, we'll fit the random cut forest in batch mode.  "
   ]
  },
  {
   "cell_type": "code",
   "execution_count": 4,
   "metadata": {},
   "outputs": [],
   "source": [
    "# run a batch job to build a random cut forest to identify what the anomalies in the dataset are\n",
    "forest_batch = rcf.RandomCutForest(max_samples=128, random_features=False).fit(X)"
   ]
  },
  {
   "cell_type": "code",
   "execution_count": 5,
   "metadata": {},
   "outputs": [],
   "source": [
    "scores_batch = forest_batch.decision_function(X)"
   ]
  },
  {
   "cell_type": "markdown",
   "metadata": {},
   "source": [
    "Now, we'll fit the random cut forest in streaming mode.  Create an initial model with a small subset of the points, then stream in the remaining points."
   ]
  },
  {
   "cell_type": "code",
   "execution_count": 6,
   "metadata": {},
   "outputs": [],
   "source": [
    "# build a random cut forest with only a small sample of initial points\n",
    "stream_init = 300\n",
    "forest_stream = rcf.RandomCutForest(max_samples=128, random_features=False).fit(X[:stream_init])"
   ]
  },
  {
   "cell_type": "code",
   "execution_count": 7,
   "metadata": {},
   "outputs": [],
   "source": [
    "# now stream in the remaining points\n",
    "for i in range(stream_init, n):\n",
    "    forest_stream.add_point(X[i])"
   ]
  },
  {
   "cell_type": "code",
   "execution_count": 8,
   "metadata": {},
   "outputs": [],
   "source": [
    "scores_stream = forest_stream.decision_function(X)"
   ]
  },
  {
   "cell_type": "markdown",
   "metadata": {},
   "source": [
    "Both models do a good job of detecting the anomalies.  \n",
    "\n",
    "Note that these methods are stochastic, so the results will be different each time this notebook is run."
   ]
  },
  {
   "cell_type": "code",
   "execution_count": 9,
   "metadata": {},
   "outputs": [
    {
     "name": "stdout",
     "output_type": "stream",
     "text": [
      "batch random cut forest roc auc:  0.9888216568248644\n",
      "streaming random cut forest roc auc:  0.9956744672061432\n"
     ]
    }
   ],
   "source": [
    "# both random cut forests produced good results at identifying the anomalies\n",
    "print('batch random cut forest roc auc: ', metrics.roc_auc_score(is_outlier, -scores_batch))\n",
    "print('streaming random cut forest roc auc: ', metrics.roc_auc_score(is_outlier, -scores_stream))"
   ]
  }
 ],
 "metadata": {
  "anaconda-cloud": {},
  "kernelspec": {
   "display_name": "rcf",
   "language": "python",
   "name": "rcf"
  },
  "language_info": {
   "codemirror_mode": {
    "name": "ipython",
    "version": 3
   },
   "file_extension": ".py",
   "mimetype": "text/x-python",
   "name": "python",
   "nbconvert_exporter": "python",
   "pygments_lexer": "ipython3",
   "version": "3.6.6"
  }
 },
 "nbformat": 4,
 "nbformat_minor": 1
}
